{
 "cells": [
  {
   "cell_type": "code",
   "execution_count": null,
   "id": "e4ef32d2",
   "metadata": {},
   "outputs": [],
   "source": [
    "import requests\n",
    "from bs4 import BeautifulSoup \n",
    "import pandas as pd\n",
    "import os\n",
    "import shutil\n",
    "import numpy as np\n",
    "from sklearn.preprocessing import OneHotEncoder\n",
    "from sklearn.model_selection import cross_val_score, cross_validate\n",
    "from sklearn.ensemble import RandomForestRegressor\n",
    "from sklearn.metrics import mean_squared_error, make_scorer\n",
    "from sklearn.compose import make_column_transformer"
   ]
  },
  {
   "cell_type": "code",
   "execution_count": null,
   "id": "b149529d",
   "metadata": {},
   "outputs": [],
   "source": [
    "years = list(range(1985, 2022))"
   ]
  },
  {
   "cell_type": "code",
   "execution_count": null,
   "id": "4d14a35b",
   "metadata": {},
   "outputs": [],
   "source": [
    "url_start = \"https://www.basketball-reference.com/awards/awards_{}.html\""
   ]
  },
  {
   "cell_type": "code",
   "execution_count": null,
   "id": "b70aebff",
   "metadata": {},
   "outputs": [],
   "source": [
    "for year in years:\n",
    "    url = url_start.format(year)\n",
    "    data = requests.get(url)\n",
    "    with open('mvp/{}.html'.format(year), 'w+', encoding = 'utf-8') as f:\n",
    "        f.write(data.text)"
   ]
  },
  {
   "cell_type": "code",
   "execution_count": null,
   "id": "c186d145",
   "metadata": {},
   "outputs": [],
   "source": [
    "dfs = []\n",
    "\n",
    "for year in years:\n",
    "    with open(\"mvp/{}.html\".format(year), encoding =\"utf-8\") as f:\n",
    "        page = f.read()\n",
    "        \n",
    "    soup = BeautifulSoup(page, 'html.parser')\n",
    "    soup.find('tr', class_ = \"over_header\").decompose()\n",
    "    mvp_table = soup.find_all(id='mvp')[0]\n",
    "    mvp_df = pd.read_html(str(mvp_table))[0]\n",
    "    mvp_df['Year'] = year\n",
    "    \n",
    "    dfs.append(mvp_df)"
   ]
  },
  {
   "cell_type": "code",
   "execution_count": null,
   "id": "a6e5945c",
   "metadata": {},
   "outputs": [],
   "source": [
    "mvps = pd.concat(dfs)"
   ]
  },
  {
   "cell_type": "code",
   "execution_count": null,
   "id": "a92e03c2",
   "metadata": {},
   "outputs": [],
   "source": [
    "mvps.head()"
   ]
  },
  {
   "cell_type": "code",
   "execution_count": null,
   "id": "4133adf1",
   "metadata": {},
   "outputs": [],
   "source": [
    "mvps.to_csv('mvps.csv')"
   ]
  },
  {
   "cell_type": "markdown",
   "id": "bc37a991",
   "metadata": {},
   "source": [
    "Let's try doing this with player stats now.\n",
    "\n",
    "1. The bball-ref player stats table uses javascript, so we will have to account for that."
   ]
  },
  {
   "cell_type": "code",
   "execution_count": null,
   "id": "3b1609cd",
   "metadata": {},
   "outputs": [],
   "source": [
    "player_stats_url = \"https://www.basketball-reference.com/leagues/NBA_{}_per_game.html\""
   ]
  },
  {
   "cell_type": "code",
   "execution_count": null,
   "id": "b7f90770",
   "metadata": {},
   "outputs": [],
   "source": [
    " for year in years:\n",
    "    url = player_stats_url.format(year)\n",
    "    data = requests.get(url)\n",
    "    with open('player/{}.html'.format(year), 'w+', encoding = 'utf-8') as f:\n",
    "        f.write(data.text)"
   ]
  },
  {
   "cell_type": "code",
   "execution_count": null,
   "id": "c8a2d7c2",
   "metadata": {},
   "outputs": [],
   "source": [
    "df = []\n",
    "for year in years:\n",
    "    \n",
    "    with open('player/{}.html'.format(year), encoding = 'utf-8') as f:\n",
    "        page = f.read()\n",
    "\n",
    "        soup = BeautifulSoup(page, 'html.parser')\n",
    "        soup.find('tr', class_ = \"thead\").decompose()\n",
    "        player_table = soup.find_all(id='per_game_stats')[0]\n",
    "        player_df = pd.read_html(str(player_table))[0]\n",
    "        player_df['Year'] = year\n",
    "        \n",
    "        df.append(player_df)"
   ]
  },
  {
   "cell_type": "code",
   "execution_count": null,
   "id": "230de04d",
   "metadata": {},
   "outputs": [],
   "source": [
    "player_df.head()"
   ]
  },
  {
   "cell_type": "code",
   "execution_count": null,
   "id": "b81e8401",
   "metadata": {},
   "outputs": [],
   "source": [
    "player_df = pd.concat(df)"
   ]
  },
  {
   "cell_type": "code",
   "execution_count": null,
   "id": "731534c9",
   "metadata": {},
   "outputs": [],
   "source": [
    "player_df.to_csv('players.csv')"
   ]
  },
  {
   "cell_type": "markdown",
   "id": "91ed71c3",
   "metadata": {},
   "source": [
    "Scrape team records per year"
   ]
  },
  {
   "cell_type": "code",
   "execution_count": null,
   "id": "cae914aa",
   "metadata": {},
   "outputs": [],
   "source": [
    "team_stats_url = 'https://www.basketball-reference.com/leagues/NBA_{}_standings.html'"
   ]
  },
  {
   "cell_type": "code",
   "execution_count": null,
   "id": "923991b7",
   "metadata": {},
   "outputs": [],
   "source": [
    "for year in years:\n",
    "    url = team_stats_url.format(year)\n",
    "    data = requests.get(url)\n",
    "\n",
    "    with open ('team/{}.html'.format(year), 'w+',encoding = 'utf-8') as f:\n",
    "        f.write(data.text)"
   ]
  },
  {
   "cell_type": "code",
   "execution_count": null,
   "id": "ec3f05dd",
   "metadata": {},
   "outputs": [],
   "source": [
    "dfs = []\n",
    "\n",
    "for year in years:\n",
    "    with open('team/{}.html'.format(year), encoding = 'utf-8') as f:\n",
    "        page = f.read()\n",
    "\n",
    "        soup = BeautifulSoup(page, 'html.parser')\n",
    "        soup.find('tr', class_='thead').decompose()\n",
    "        team_table = soup.find_all(id = 'divs_standings_E')\n",
    "        team = pd.read_html(str(team_table))[0]\n",
    "        team['Year'] = year\n",
    "        team['Team'] = team['Eastern Conference']\n",
    "        del team['Eastern Conference']\n",
    "        dfs.append(team)\n",
    "\n",
    "        soup = BeautifulSoup(page, 'html.parser')\n",
    "        soup.find('tr', class_='thead').decompose()\n",
    "        team_table = soup.find_all(id = 'divs_standings_W')\n",
    "        team = pd.read_html(str(team_table))[0]\n",
    "        team['Year'] = year\n",
    "        team['Team'] = team['Western Conference']\n",
    "        del team['Western Conference']\n",
    "        dfs.append(team)"
   ]
  },
  {
   "cell_type": "code",
   "execution_count": null,
   "id": "80d38dc1",
   "metadata": {},
   "outputs": [],
   "source": [
    "teams = pd.concat(dfs)\n",
    "teams['GB'] = teams['GB'].str.replace('—',\"0\",regex=False)"
   ]
  },
  {
   "cell_type": "code",
   "execution_count": null,
   "id": "23ee95a9",
   "metadata": {},
   "outputs": [],
   "source": [
    "teams = teams[~teams['W'].str.contains('Division')]"
   ]
  },
  {
   "cell_type": "code",
   "execution_count": null,
   "id": "65383f57",
   "metadata": {},
   "outputs": [],
   "source": [
    "teams['Team'] = teams['Team'].str.replace('*',\"\", regex=False)"
   ]
  },
  {
   "cell_type": "code",
   "execution_count": null,
   "id": "189436ce",
   "metadata": {},
   "outputs": [],
   "source": [
    "teams.to_csv('teams.csv')"
   ]
  },
  {
   "cell_type": "markdown",
   "id": "ad9da1b5",
   "metadata": {},
   "source": [
    "Data Cleaning"
   ]
  },
  {
   "cell_type": "code",
   "execution_count": null,
   "id": "d699ef12",
   "metadata": {},
   "outputs": [],
   "source": [
    "mvps = pd.read_csv('mvps.csv')"
   ]
  },
  {
   "cell_type": "code",
   "execution_count": null,
   "id": "acb7b08a",
   "metadata": {},
   "outputs": [],
   "source": [
    "#Only select the cols that we need, since the players table already contains game stats\n",
    "mvps = mvps[['Player','Year','Pts Won','Pts Max', 'Share',]]"
   ]
  },
  {
   "cell_type": "markdown",
   "id": "2a9a03a6",
   "metadata": {},
   "source": [
    "Clean player data and combine with MVP table\n"
   ]
  },
  {
   "cell_type": "code",
   "execution_count": null,
   "id": "8621b10c",
   "metadata": {},
   "outputs": [],
   "source": [
    "players = pd.read_csv('players.csv')\n",
    "players"
   ]
  },
  {
   "cell_type": "code",
   "execution_count": null,
   "id": "01483465",
   "metadata": {},
   "outputs": [],
   "source": [
    "# remove unnecessary cols\n",
    "del players['Unnamed: 0']\n",
    "del players['Rk']"
   ]
  },
  {
   "cell_type": "code",
   "execution_count": null,
   "id": "772fa4c6",
   "metadata": {},
   "outputs": [],
   "source": [
    "# remove '*' next to player names for future join\n",
    "players['Player'] = players['Player'].str.replace('*','', regex=False)"
   ]
  },
  {
   "cell_type": "code",
   "execution_count": null,
   "id": "43a3b408",
   "metadata": {},
   "outputs": [],
   "source": [
    "#remove duplicate player rows for players for example who were traded\n",
    "players.groupby(['Player','Year'])"
   ]
  },
  {
   "cell_type": "code",
   "execution_count": null,
   "id": "2c15ff7f",
   "metadata": {},
   "outputs": [],
   "source": [
    "def single_row(df):\n",
    "    if df.shape[0] == 1:\n",
    "        return df\n",
    "    else:\n",
    "        row = df[df['Tm'] == 'TOT']\n",
    "        row['Tm'] = df.iloc[-1,:]['Tm']\n",
    "        return row\n",
    "players = players.groupby(['Player','Year']).apply(single_row)"
   ]
  },
  {
   "cell_type": "code",
   "execution_count": null,
   "id": "79b5cdc3",
   "metadata": {},
   "outputs": [],
   "source": [
    "players.index = players.index.droplevel()"
   ]
  },
  {
   "cell_type": "code",
   "execution_count": null,
   "id": "7406d80b",
   "metadata": {},
   "outputs": [],
   "source": [
    "players.index = players.index.droplevel()"
   ]
  },
  {
   "cell_type": "code",
   "execution_count": null,
   "id": "794ba59f",
   "metadata": {},
   "outputs": [],
   "source": [
    "players[players['Player'] == 'LeBron James']"
   ]
  },
  {
   "cell_type": "code",
   "execution_count": null,
   "id": "f3689acf",
   "metadata": {},
   "outputs": [],
   "source": [
    "combined = players.merge(mvps, how ='outer', on = ['Player','Year'])"
   ]
  },
  {
   "cell_type": "code",
   "execution_count": null,
   "id": "f106e49e",
   "metadata": {},
   "outputs": [],
   "source": [
    "combined.to_csv('combined_plmp.csv')"
   ]
  },
  {
   "cell_type": "code",
   "execution_count": null,
   "id": "ad9ee88c",
   "metadata": {},
   "outputs": [],
   "source": [
    "players"
   ]
  },
  {
   "cell_type": "code",
   "execution_count": null,
   "id": "66eecb4d",
   "metadata": {},
   "outputs": [],
   "source": [
    "combined[combined['Pts Won'] > 0]"
   ]
  },
  {
   "cell_type": "markdown",
   "id": "0b24957f",
   "metadata": {},
   "source": [
    "Address NaN values"
   ]
  },
  {
   "cell_type": "code",
   "execution_count": null,
   "id": "a2645e7a",
   "metadata": {},
   "outputs": [],
   "source": [
    "combined = combined.fillna(0)"
   ]
  },
  {
   "cell_type": "code",
   "execution_count": null,
   "id": "b5cd430a",
   "metadata": {},
   "outputs": [],
   "source": [
    "combined = combined.apply(pd.to_numeric, errors='ignore')"
   ]
  },
  {
   "cell_type": "code",
   "execution_count": null,
   "id": "9b7b49a1",
   "metadata": {},
   "outputs": [],
   "source": [
    "combined.dtypes"
   ]
  },
  {
   "cell_type": "code",
   "execution_count": null,
   "id": "6de3cdd4",
   "metadata": {},
   "outputs": [],
   "source": [
    "teams = pd.read_csv('teams.csv')"
   ]
  },
  {
   "cell_type": "markdown",
   "id": "0ae668f1",
   "metadata": {},
   "source": [
    "Team names are not consistent across tables, let's address that\n"
   ]
  },
  {
   "cell_type": "code",
   "execution_count": null,
   "id": "04df69f3",
   "metadata": {},
   "outputs": [],
   "source": [
    "teams['Team'].unique()"
   ]
  },
  {
   "cell_type": "code",
   "execution_count": null,
   "id": "e1b5a69b",
   "metadata": {},
   "outputs": [],
   "source": [
    "combined['Tm'] = combined['Tm'].str.replace('CHA','CHB',regex=False)"
   ]
  },
  {
   "cell_type": "code",
   "execution_count": null,
   "id": "80947a1b",
   "metadata": {},
   "outputs": [],
   "source": [
    "combined['Tm'].unique()"
   ]
  },
  {
   "cell_type": "code",
   "execution_count": null,
   "id": "82223de4",
   "metadata": {},
   "outputs": [],
   "source": [
    "abbr = {}\n",
    "\n",
    "with open('team_abbr.csv') as f:\n",
    "    lines = f.readlines()\n",
    "    for line in lines[1:]:\n",
    "        abbrev, name = line.replace('\\n',\"\").split(\",\")\n",
    "        abbr[abbrev] = name"
   ]
  },
  {
   "cell_type": "code",
   "execution_count": null,
   "id": "724c222c",
   "metadata": {},
   "outputs": [],
   "source": [
    "abbr"
   ]
  },
  {
   "cell_type": "code",
   "execution_count": null,
   "id": "7432c1ec",
   "metadata": {},
   "outputs": [],
   "source": [
    "combined['Team'] = combined['Tm'].map(abbr)"
   ]
  },
  {
   "cell_type": "code",
   "execution_count": null,
   "id": "fbf835d6",
   "metadata": {},
   "outputs": [],
   "source": [
    "stats = combined.merge(teams, how = 'left', on = ['Team','Year'])"
   ]
  },
  {
   "cell_type": "code",
   "execution_count": null,
   "id": "db34e458",
   "metadata": {},
   "outputs": [],
   "source": [
    "stats"
   ]
  },
  {
   "cell_type": "code",
   "execution_count": null,
   "id": "113e327c",
   "metadata": {},
   "outputs": [],
   "source": [
    "del stats['Unnamed: 0']"
   ]
  },
  {
   "cell_type": "code",
   "execution_count": null,
   "id": "dceebda2",
   "metadata": {},
   "outputs": [],
   "source": [
    "stats.dtypes"
   ]
  },
  {
   "cell_type": "code",
   "execution_count": null,
   "id": "5cfeb266",
   "metadata": {},
   "outputs": [],
   "source": [
    "stats = stats.apply(pd.to_numeric, errors='ignore')"
   ]
  },
  {
   "cell_type": "code",
   "execution_count": null,
   "id": "9c376a05",
   "metadata": {},
   "outputs": [],
   "source": [
    "stats.dtypes"
   ]
  },
  {
   "cell_type": "code",
   "execution_count": null,
   "id": "a2a2fb98",
   "metadata": {},
   "outputs": [],
   "source": [
    "stats.to_csv('player_mvp_stats.csv')"
   ]
  },
  {
   "cell_type": "code",
   "execution_count": null,
   "id": "4fdbc217",
   "metadata": {},
   "outputs": [],
   "source": [
    "scoring_leaders = stats[stats['G'] > 70].sort_values('PTS', ascending = False).head(10)"
   ]
  },
  {
   "cell_type": "code",
   "execution_count": null,
   "id": "634d7bc8",
   "metadata": {},
   "outputs": [],
   "source": [
    "scoring_leaders.plot.bar('Player', 'PTS')"
   ]
  },
  {
   "cell_type": "code",
   "execution_count": null,
   "id": "4a60ed45",
   "metadata": {},
   "outputs": [],
   "source": [
    "high_scores = stats.groupby('Year').apply(lambda x: x.sort_values('PTS',ascending=False).head(1))"
   ]
  },
  {
   "cell_type": "code",
   "execution_count": null,
   "id": "7b95c96e",
   "metadata": {},
   "outputs": [],
   "source": [
    "high_scores.plot.bar('Year','PTS')"
   ]
  },
  {
   "cell_type": "markdown",
   "id": "1a33e172",
   "metadata": {},
   "source": [
    "Check correlation"
   ]
  },
  {
   "cell_type": "code",
   "execution_count": null,
   "id": "969c1c4f",
   "metadata": {},
   "outputs": [],
   "source": [
    "stats.corr()['Share']"
   ]
  },
  {
   "cell_type": "code",
   "execution_count": null,
   "id": "b0ecaa3d",
   "metadata": {},
   "outputs": [],
   "source": [
    "stats.corr()['Share'].plot.bar()"
   ]
  },
  {
   "cell_type": "markdown",
   "id": "2a4d6b67",
   "metadata": {},
   "source": [
    "Check for nulls"
   ]
  },
  {
   "cell_type": "code",
   "execution_count": null,
   "id": "4455ea9d",
   "metadata": {},
   "outputs": [],
   "source": [
    "pd.isnull(stats).sum()"
   ]
  },
  {
   "cell_type": "markdown",
   "id": "debb7387",
   "metadata": {},
   "source": [
    "Remove Player, Pts Won, Pts Max, Share because these values are what we are trying to predict, and leaving them in could lead to correlation issues. We will also remove 'Team' and 'Tm', as these columns were only used to join the win/loss data."
   ]
  },
  {
   "cell_type": "code",
   "execution_count": null,
   "id": "025698e0",
   "metadata": {},
   "outputs": [],
   "source": [
    "stats.columns\n",
    "stats = stats.drop(['Team','Tm'], axis=1)"
   ]
  },
  {
   "cell_type": "markdown",
   "id": "a765585a",
   "metadata": {},
   "source": [
    "Before we actually start evaluating our model, we will have to account for our categorical variable, 'Pos' (player position). We can use One-Hot Encoding in order to create dummy variables and represent each position as a binary vector. For the purposes of simplifying our model, I will replace any multi-positional indicators such as 'PF-C' (Power Forward - Center) to just the first position indicated."
   ]
  },
  {
   "cell_type": "code",
   "execution_count": null,
   "id": "2d291d8d",
   "metadata": {},
   "outputs": [],
   "source": [
    "stats['Pos'].unique()"
   ]
  },
  {
   "cell_type": "code",
   "execution_count": null,
   "id": "81ebba8c",
   "metadata": {},
   "outputs": [],
   "source": [
    "stats['Pos'] = stats['Pos'].replace(r'-\\w+', '', regex=True)"
   ]
  },
  {
   "cell_type": "code",
   "execution_count": null,
   "id": "9dfc78fc",
   "metadata": {},
   "outputs": [],
   "source": [
    "transformer = make_column_transformer((OneHotEncoder(), ['Pos']), remainder = 'passthrough')"
   ]
  },
  {
   "cell_type": "code",
   "execution_count": null,
   "id": "35da6188",
   "metadata": {},
   "outputs": [],
   "source": [
    "transformed = transformer.fit_transform(stats)\n",
    "enc_stats = pd.DataFrame(transformed, columns = transformer.get_feature_names_out())"
   ]
  },
  {
   "cell_type": "code",
   "execution_count": null,
   "id": "89c2228f",
   "metadata": {},
   "outputs": [],
   "source": [
    "enc_stats.columns = enc_stats.columns.str.replace(r'^\\w+__','',regex=True)"
   ]
  },
  {
   "cell_type": "code",
   "execution_count": null,
   "id": "425bb13c",
   "metadata": {},
   "outputs": [],
   "source": [
    "enc_stats = enc_stats.apply(pd.to_numeric, errors='ignore')"
   ]
  },
  {
   "cell_type": "code",
   "execution_count": null,
   "id": "0a9c5353",
   "metadata": {},
   "outputs": [],
   "source": [
    "enc_stats.dtypes"
   ]
  },
  {
   "cell_type": "code",
   "execution_count": null,
   "id": "3f84e570",
   "metadata": {},
   "outputs": [],
   "source": [
    "enc_stats.columns"
   ]
  },
  {
   "cell_type": "markdown",
   "id": "17820d0a",
   "metadata": {},
   "source": [
    "Select/define features for cross validation and modelling"
   ]
  },
  {
   "cell_type": "code",
   "execution_count": null,
   "id": "12490821",
   "metadata": {},
   "outputs": [],
   "source": [
    "predictors = ['Pos_C', 'Pos_PF', 'Pos_PG', 'Pos_SF', 'Pos_SG', 'Age', 'G',\n",
    "       'GS', 'MP', 'FG', 'FGA', 'FG%', '3P', '3PA', '3P%', '2P', '2PA', '2P%',\n",
    "       'eFG%', 'FT', 'FTA', 'FT%', 'ORB', 'DRB', 'TRB', 'AST', 'STL', 'BLK',\n",
    "       'TOV', 'PF', 'PTS', 'Year', 'W', 'L', 'W/L%', 'GB', 'PS/G', 'PA/G', 'SRS']"
   ]
  },
  {
   "cell_type": "code",
   "execution_count": null,
   "id": "5e35e179",
   "metadata": {},
   "outputs": [],
   "source": [
    "X_mvp = enc_stats[predictors]"
   ]
  },
  {
   "cell_type": "code",
   "execution_count": null,
   "id": "f4b4e002",
   "metadata": {},
   "outputs": [],
   "source": [
    "y_mvp = enc_stats[['Share']]"
   ]
  },
  {
   "cell_type": "markdown",
   "id": "d39de206",
   "metadata": {},
   "source": [
    "Let's use a random forest model since we have a lot of categorical variables. 400 random trees in our forest, and our model will make a split when there is a minimum of 5 samples at an internal node."
   ]
  },
  {
   "cell_type": "code",
   "execution_count": null,
   "id": "69b6b93e",
   "metadata": {},
   "outputs": [],
   "source": [
    "#create scoring functions\n",
    "regression_score = {'R^2 score' : 'r2',\n",
    "    'Explained Variance' : 'explained_variance',\n",
    "    'MSE' : 'neg_mean_squared_error',\n",
    "    'RMSE' : make_scorer(mean_squared_error, squared=False)}\n",
    "\n",
    "def cross_validation_score(model, X, y, scoring, CV):\n",
    "    scores = cross_validate(model, X, y.values.ravel(), scoring=scoring, cv=CV)\n",
    "\n",
    "    return {metric: (round(np.mean(scores),3),\n",
    "    [round(np.std(scores),3)]) for metric, scores in scores.items()}"
   ]
  },
  {
   "cell_type": "code",
   "execution_count": null,
   "id": "95e5bef8",
   "metadata": {},
   "outputs": [],
   "source": [
    "rf = RandomForestRegressor(n_estimators=400, random_state = 1, min_samples_split = 5, criterion = 'squared_error')"
   ]
  },
  {
   "cell_type": "code",
   "execution_count": null,
   "id": "3f837f67",
   "metadata": {},
   "outputs": [],
   "source": [
    "rf_scores = cross_validation_score(rf, X_mvp, y_mvp, regression_score, 10)\n",
    "rf_scores"
   ]
  },
  {
   "cell_type": "code",
   "execution_count": null,
   "id": "7fadd502",
   "metadata": {},
   "outputs": [],
   "source": []
  }
 ],
 "metadata": {
  "kernelspec": {
   "display_name": "Python 3.7.13 ('base')",
   "language": "python",
   "name": "python3"
  },
  "language_info": {
   "codemirror_mode": {
    "name": "ipython",
    "version": 3
   },
   "file_extension": ".py",
   "mimetype": "text/x-python",
   "name": "python",
   "nbconvert_exporter": "python",
   "pygments_lexer": "ipython3",
   "version": "3.7.13"
  },
  "vscode": {
   "interpreter": {
    "hash": "ad2bdc8ecc057115af97d19610ffacc2b4e99fae6737bb82f5d7fb13d2f2c186"
   }
  }
 },
 "nbformat": 4,
 "nbformat_minor": 5
}
